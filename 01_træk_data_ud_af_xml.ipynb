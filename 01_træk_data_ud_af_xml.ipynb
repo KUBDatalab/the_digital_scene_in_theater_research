{
 "cells": [
  {
   "cell_type": "markdown",
   "id": "c497b40e",
   "metadata": {},
   "source": [
    "# Intro\n",
    "Eftersom jeg ofte har oplevet at tekstdata ofte bliver udleveret som enten tei- eller xml-filer, er jeg blevet opmærksom på, at man humanister har brug for et kendskab til, hvordan man trækker data ud af opmærkede filer.\n",
    "\n",
    "Opmærkede filer er kendetegnet deres særlige datastruktur, der består i at tags omslutter tekstelementer (se f.eks. https://www.w3schools.com/xml/xml_whatis.asp og https://www.w3schools.com/xml/xml_elements.asp). Datastruktureren bliver ofte meget kompleks og jo mere kompleks datastrukturen er jo mere kompleks bliver den kode, der kan trække data ud.\n",
    "\n",
    "I denne notebook benytter jeg en xml-opmærket fil, som jeg har tilpasset, så den kan anvendes til at få kendskab til, hvordan man trækker data ud af xml uden, at pythonkoden bliver for kompleks.\n",
    "\n",
    "Den tilpassede fil er bygget ud fra en kompleks tei-opmærket fil, som er produceret i projektet Ludvig Holbergs skrifter: https://www.uib.no/ub/71975/ludvig-holbergs-skrifter.\n",
    "\n",
    "Filen indeholder Holberg komedien Den Politiske Kandstøber. En komedie opmærket i xml vil ofte være opmærket med tags, der omslutter akter, scener, talere, replikker og så videre.\n",
    "\n",
    "Jeg har besluttet at bruge python biblioteket BeautifulSoup til at trække data ud (https://beautiful-soup-4.readthedocs.io/en/latest/#quick-start). Biblioteket re (regulære udtryk) vil jeg også bruge. Det er til at bearbejde tekstdata."
   ]
  },
  {
   "cell_type": "markdown",
   "id": "8d76f594",
   "metadata": {},
   "source": [
    "# Import af biblioteker\n",
    "Jeg begynder med at importere bibliokterne."
   ]
  },
  {
   "cell_type": "code",
   "execution_count": 1,
   "id": "2aa1921c",
   "metadata": {},
   "outputs": [],
   "source": [
    "from bs4 import BeautifulSoup\n",
    "import re"
   ]
  },
  {
   "cell_type": "markdown",
   "id": "49f6683f",
   "metadata": {},
   "source": [
    "# Indlæsning af xml-filen\n",
    "I mappen datasets ( https://github.com/KUBDatalab/datasets ) findes en zip-fil, der hedder 'Holbergs comedies'. Zip-filen indeholder en mappe med xml-filer, der indeholder opmærkede Holberg komedier. Download filen, unzip den, og så vil du kunne køre denne notebook selv.\n",
    "\n",
    "Jeg indlæser filen på denne måde."
   ]
  },
  {
   "cell_type": "code",
   "execution_count": 2,
   "id": "fb6a24c3",
   "metadata": {},
   "outputs": [],
   "source": [
    "with open('C:\\\\Users\\\\lakj\\\\data\\\\holbergs_comedies\\\\test1.xml', 'r', encoding='utf-8-sig') as f:\n",
    "    file = f.read() \n",
    "\n",
    "soup = BeautifulSoup(file, 'xml')"
   ]
  },
  {
   "cell_type": "markdown",
   "id": "ff8d4be6",
   "metadata": {},
   "source": [
    "Xml's datastruktur er nu gemt i vaiablen soup. Lad os undersøge, hvilke tags den indeholder brugt."
   ]
  },
  {
   "cell_type": "code",
   "execution_count": 3,
   "id": "e521d36f",
   "metadata": {},
   "outputs": [
    {
     "name": "stdout",
     "output_type": "stream",
     "text": [
      "{'date', 'head', 'stage', 'source', 'scene', 'body', 'title', 'speaker', 'titlePage', 'castList', 'role', 'act', 'e_source', 'author', 'front', 'text', 'actor', 'castItem', 'w', 'header', 'performance', 'sp', 'statement', 'p'}\n"
     ]
    }
   ],
   "source": [
    "tags = [tag.name for tag in soup.find_all(True)]\n",
    "print (set(tags))"
   ]
  },
  {
   "cell_type": "markdown",
   "id": "424924a4",
   "metadata": {},
   "source": [
    "Linket til den elektroniske udgave af komedien, som filen filen stammer fra ligger i tagget 'e_source'."
   ]
  },
  {
   "cell_type": "code",
   "execution_count": 4,
   "id": "cd9799c6",
   "metadata": {},
   "outputs": [
    {
     "data": {
      "text/plain": [
       "'http://holbergsskrifter.dk/holberg-public/view?docId=skuespill%2FDen_Politiske_Kandstoeber%2FKandst.page;toc.depth=1;brand==start'"
      ]
     },
     "execution_count": 4,
     "metadata": {},
     "output_type": "execute_result"
    }
   ],
   "source": [
    "soup.e_source.text"
   ]
  },
  {
   "cell_type": "markdown",
   "id": "3ef443b6",
   "metadata": {},
   "source": [
    "# Udtræk tekstdata\n",
    "Neden for trækker jeg tekst ud af datastrukturen."
   ]
  },
  {
   "cell_type": "code",
   "execution_count": 5,
   "id": "a93adb3a",
   "metadata": {},
   "outputs": [
    {
     "name": "stdout",
     "output_type": "stream",
     "text": [
      "1723\n",
      "Den Politiske Kandstøber\n",
      "Ludvig Holberg\n"
     ]
    }
   ],
   "source": [
    "date_tag = soup.date # date er et tag\n",
    "date = date_tag.text # text bruger jeg til at trække den tekst ud, som findes i tagget \n",
    "print(date)\n",
    "\n",
    "title_tag = soup.title\n",
    "title = title_tag.text\n",
    "print(title)\n",
    "\n",
    "author_tag = soup.author\n",
    "author = author_tag.text\n",
    "print(author)"
   ]
  },
  {
   "cell_type": "markdown",
   "id": "bd470d10",
   "metadata": {},
   "source": [
    "Der er flere linjer, der har tagget 'role' Derfor må jeg bruge .find_all('role') til at finde alle rolle-tags.\n",
    ".find_all() returnerer en liste, som jeg gemmer i 'role_tags'. Når jeg har en liste, kan jeg bruge en list-comprehension til at gennemløbe alle listens 'items' (i). (https://www.w3schools.com/python/python_lists_comprehension.asp).  "
   ]
  },
  {
   "cell_type": "code",
   "execution_count": 6,
   "id": "52eaed26",
   "metadata": {},
   "outputs": [
    {
     "name": "stdout",
     "output_type": "stream",
     "text": [
      "['Herman von Bremen.', 'Geske hans Hustru.', 'Engelke hans Datter.', 'Antonius hendes Beiler.', 'Henrich Tieneren.', 'Anecke Piigen.']\n"
     ]
    }
   ],
   "source": [
    "role_tags = soup.find_all('role')\n",
    "roles = [i.text for i in role_tags]\n",
    "print (roles)"
   ]
  },
  {
   "cell_type": "markdown",
   "id": "9df7703b",
   "metadata": {},
   "source": [
    "Der er også flere linjer, der har tagget 'actor', så den kan jeg løse på som ovenfor."
   ]
  },
  {
   "cell_type": "code",
   "execution_count": 7,
   "id": "01233afa",
   "metadata": {},
   "outputs": [
    {
     "name": "stdout",
     "output_type": "stream",
     "text": [
      "['M. Ulsø.', 'Mad. Montaigu.', 'Mad. Coffre.', 'M. Piloi.', 'M. Wegner.', 'Mad. Lerke.']\n"
     ]
    }
   ],
   "source": [
    "actor_tags = soup.find_all('actor')\n",
    "actors = [i.text for i in actor_tags]\n",
    "print (actors)"
   ]
  },
  {
   "cell_type": "markdown",
   "id": "74a9cd6d",
   "metadata": {},
   "source": [
    "W-tagget indeholder ord, der holdes sammen af bindestreger."
   ]
  },
  {
   "cell_type": "code",
   "execution_count": 8,
   "id": "2642e092",
   "metadata": {},
   "outputs": [
    {
     "name": "stdout",
     "output_type": "stream",
     "text": [
      "['Hoved-Personerne', 'Hals-Klud', 'Smørre-Brød', 'u-mælende', 'u-værdig', 'Sviger-Søn', 'Sviger-Søn', 'Stads-Sager', 'Sviger-Søn', 'Staats-Sager', 'Bord-Enden', 'Staats-Sager', 'Chuur-Førster', 'Kreds-Oberst', 'Kreds-Tropperne', 'Staats-Sager', 'Chur-Fyrsten', 'Øster-Rige', 'Øster-Rige', 'Pose-Kiger', 'Søe-Sted', 'Pose-Kiger', 'Søe-Sted', 'Pose-Kiger', 'Brende-Viin', 'Huus-Leje', 'Tamper-Ret', 'Raads-Herrer', 'Raads-Herrer', 'Guld-Smid', 'Guld-Smeddenes', 'Kniv-Smed', 'Handtvercks-Laug', 'Handtverks-Folk', 'Hovet-Lejeren', 'Rihn-Strømmen', 'Rihn-Strømmen', 'Kniv-Smed', 'Hoved-Forseelse', 'Pose-Kiger', 'Kniv-Smed', 'Pose-Kigere', 'Kniv-Smed', 'Raads-Herrers', 'Raads-Herrer', 'Raads-Herrer', 'Bormester-skab', 'Livs-Tid', 'Raads-Herrernes', 'Bormester-skab', 'Kandstøber-Nøcker', 'Jøde-Præst', 'Raads-Herrernes', 'Thee-Bord', 'Kandstøber-Væsen', 'Thee-Bord', 'Caffee-Bord', 'Snustobaks-Daase', 'Skiøde-Hund', 'Naboe-Kone', 'Slagter-Kniven', 'Dricke-Penge', 'u-visse', 'Bonde-Daatter', 'Caffee-Bordet', 'Caffee-Bordet', 'Raads-Herrernes', 'Mad-Spand', 'Liim-Stangen', 'Raad-Stuen', 'Raads-Herrinder', 'Raads-Herinderne', 'Raads-Herinde', 'Raads-Herinde', 'Raads-Herinde', 'Raads-Herinde', 'Raads-Herinde', 'Lencke-Hund', 'Raads-Herinde', 'Raads-Herinde', 'Regierings-Form', 'Raads-Herinder', 'Raads-Herinde', 'Raads-Herinde', 'Raads-Herinde', 'Raads-Herinden', 'Lyck-Ønskning', 'Raads-Herinden', 'Med-Colleginder', 'Raads-Herinden', 'Raads-Herinden', 'Raads-Herinden', 'Raads-Herinde', 'Mands-Person', 'Du-Søstre', 'Raads-Herinden', 'Hoved-Vands-Eeg', 'Smeede-Kielling', 'Brende-Viinen', 'Raads-Herinden', 'Raads-Herinden', 'Bormester-Fruer', 'Raads-Herinden', 'Aar-viis', 'Raads-Herinden', 'Raads-Herinde', 'Raads-Herinden', 'Audientz-Timen', 'Buxe-Lomme', 'Stats-Sager', 'Lyck-Ønskning', 'Lands-Lov', 'Tids-spilde', 'Ud-Tale', 'Ting-Stude', 'Mands-Person', 'Hierte-Blod', 'Liberi-Kiol', 'Østers-Kiellinger', 'Første-grøde', 'Castor-Hatte', 'Tings-Vidne', 'Tings-Vidner', 'Castor-Strømper', 'Stock-Fisk', 'Stue-Bordet', 'Raads-Herrer', 'Raads-Herrer', 'Hals-Been', 'Stads-Cabineter', 'Nach-Tisker', 'Verts-Huus']\n"
     ]
    }
   ],
   "source": [
    "hyphen_words_tags  = soup.find_all(['w'])\n",
    "hyphen_words = [i.text for i in hyphen_words_tags]\n",
    "\n",
    "print(hyphen_words)"
   ]
  },
  {
   "cell_type": "markdown",
   "id": "11a9815f",
   "metadata": {},
   "source": [
    "# Udtræk tekst fra tags med attributter\n",
    "\n",
    "Et tag kan have en attribut f.eks.:\n",
    "\n",
    "\\<act id=\"act2\"> eller\n",
    "\n",
    "\\<scene id=\"act2sc1\">\n",
    "\n",
    "Datastrukternen i disse tags kan fremfindes således:"
   ]
  },
  {
   "cell_type": "code",
   "execution_count": 9,
   "id": "79a0585f",
   "metadata": {},
   "outputs": [],
   "source": [
    "act2 = soup.find(id=\"act2\")"
   ]
  },
  {
   "cell_type": "code",
   "execution_count": 10,
   "id": "6dbe80a2",
   "metadata": {},
   "outputs": [],
   "source": [
    "act2sc1 = soup.find(id=\"act2sc1\")"
   ]
  },
  {
   "cell_type": "markdown",
   "id": "c6d58368",
   "metadata": {},
   "source": [
    "I hvert akt er der flere linjer, der er tagget 'speaker'. Disse linjer fremfindes med .find_all()."
   ]
  },
  {
   "cell_type": "code",
   "execution_count": 11,
   "id": "d718cad4",
   "metadata": {},
   "outputs": [
    {
     "name": "stdout",
     "output_type": "stream",
     "text": [
      "['Gert Buntmager.', 'Sivert Pose-Kiger.', 'Frantz Parykmager.', 'Sivert Pose-Kiger.', 'Frantz Parykmager.', 'Sivert.', 'Frantz', 'Herman.', 'Verten.', 'Herman.']\n"
     ]
    }
   ],
   "source": [
    "speakers_tags = act2.find_all('speaker')\n",
    "speakers = [i.text for i in speakers_tags]\n",
    "print(speakers[0:10])"
   ]
  },
  {
   "cell_type": "markdown",
   "id": "96f7c644",
   "metadata": {},
   "source": [
    "I hvert akt er der flere linjer, der har tagget 'stage'. Disse linjer fremfindes på samme vis. "
   ]
  },
  {
   "cell_type": "code",
   "execution_count": 12,
   "id": "bb879d50",
   "metadata": {},
   "outputs": [
    {
     "name": "stdout",
     "output_type": "stream",
     "text": [
      "['Collegium Politicum præsenteres i et Wertshuus.', 'I det hand peeger paa Donaustrømmen, støder hand Kruset om med Albuen, saa at Landkortet forderves.', 'De leer allesammen. Ha, ha, ha.', 'Geske. Collegium Politicum. ', 'Hun gier ham Ørefigen.', 'Hand lader som hand vil slaae, men begynder paa nye at tælle til 20.', 'Gieske skielder uden for.', 'Collegium Politicum.', 'De komme i sterck Skielderie og taler en i Munden paa en anden, reiser sig af Stoelene, truer og stoier. Herman slaar imod Bordet og raaber:', 'Paa Vejen disputerer de og stoier om det forrige.']\n"
     ]
    }
   ],
   "source": [
    "stage_tags = act2.find_all('stage')\n",
    "stages = [i.text for i in stage_tags]\n",
    "print(stages)"
   ]
  },
  {
   "cell_type": "markdown",
   "id": "74f0a446",
   "metadata": {},
   "source": [
    "I hvert akt er hvert tekst afsnit opmærket med tagget 'sp'. Koden nedenfor printer de to første afsnit i andet akt. Læg mærke til at elementerne i 'speaker-taggene' er inkluderet i sp-taggene. Det er Gert Buntmager, der siger første replik og Sivert Pose-Kiger, der siger anden replik.  "
   ]
  },
  {
   "cell_type": "code",
   "execution_count": 13,
   "id": "c1e1218f",
   "metadata": {},
   "outputs": [
    {
     "name": "stdout",
     "output_type": "stream",
     "text": [
      "['\\nGert Buntmager.\\nDet vil altsammen give sig paa neste Rigsdag; gid jeg var der en Time. Jeg vilde viske Chur-Fyrsten af Mayntz noget i Ørene, som hand skulde tacke mig for. De got Folck veed icke, hvorudi Tysklands Interesse bestaar. Hvor har mand nogen Tid hørt en Keyserlig Residentz Stad som Wien uden Flode eller i det ringeste uden Gallejer? de kunde nock holde en Krigs-Flode til Rigets Forsvar, der gives jo nock Krigssteur og nock Romer-Monathen dertil. See om icke Tyrcken er klogere. Vi kand aldrig lære bedre at føre Krig end af ham. Der er jo Skove nock baade i Øster-Rigeog Prag, dersom mand kun vil bruge dem enten til Skibe eller Master. Hafde vi en Flode i Øster-Rige eller Prag, da lod nock Tyrcken eller Frantzmanden fare at belejre Wien, og vi kunde gaae lige til Constantinopel. Men ingen tencker paa saadant.\\n', '\\nSivert Pose-Kiger.\\nNej aldrig nogen Moors Siæl; vore Forfædre har været langt klogere. Det kommer alt paa Anstalter. Tyskland er icke større nu end det var i gamle Dage, da vi icke alleene forsvarede os berømmelig mod alle vore Naboer, men end og tog ind stoore Stycker af Franckerige, og beleyrede Paris selv baade til Lands og Vands.\\n']\n"
     ]
    }
   ],
   "source": [
    "sp_tags = act2.find_all('sp')\n",
    "sp = [i.text for i in sp_tags]\n",
    "print (sp[0:2])"
   ]
  },
  {
   "cell_type": "markdown",
   "id": "fc43cdaf",
   "metadata": {},
   "source": [
    "Replikkerne ligger i p-tags. Replikkerne trækkes ud på denne måde. Koden nedenfor printer de første to."
   ]
  },
  {
   "cell_type": "code",
   "execution_count": 14,
   "id": "7a26a234",
   "metadata": {},
   "outputs": [
    {
     "name": "stdout",
     "output_type": "stream",
     "text": [
      "['Det vil altsammen give sig paa neste Rigsdag; gid jeg var der en Time. Jeg vilde viske Chur-Fyrsten af Mayntz noget i Ørene, som hand skulde tacke mig for. De got Folck veed icke, hvorudi Tysklands Interesse bestaar. Hvor har mand nogen Tid hørt en Keyserlig Residentz Stad som Wien uden Flode eller i det ringeste uden Gallejer? de kunde nock holde en Krigs-Flode til Rigets Forsvar, der gives jo nock Krigssteur og nock Romer-Monathen dertil. See om icke Tyrcken er klogere. Vi kand aldrig lære bedre at føre Krig end af ham. Der er jo Skove nock baade i Øster-Rigeog Prag, dersom mand kun vil bruge dem enten til Skibe eller Master. Hafde vi en Flode i Øster-Rige eller Prag, da lod nock Tyrcken eller Frantzmanden fare at belejre Wien, og vi kunde gaae lige til Constantinopel. Men ingen tencker paa saadant.', 'Nej aldrig nogen Moors Siæl; vore Forfædre har været langt klogere. Det kommer alt paa Anstalter. Tyskland er icke større nu end det var i gamle Dage, da vi icke alleene forsvarede os berømmelig mod alle vore Naboer, men end og tog ind stoore Stycker af Franckerige, og beleyrede Paris selv baade til Lands og Vands.']\n"
     ]
    }
   ],
   "source": [
    "p_tags = act2.find_all('p')\n",
    "p = [i.text for i in p_tags]\n",
    "print (p[0:2])"
   ]
  },
  {
   "cell_type": "markdown",
   "id": "d3027091",
   "metadata": {},
   "source": [
    "Notebooken viser eksempler på, hvordan data kan trækkes ud af xml-filer. Næste trin i en digital analyse kunne være preprocessering for at klargøre teksten til analyse. "
   ]
  }
 ],
 "metadata": {
  "kernelspec": {
   "display_name": "Python 3 (ipykernel)",
   "language": "python",
   "name": "python3"
  },
  "language_info": {
   "codemirror_mode": {
    "name": "ipython",
    "version": 3
   },
   "file_extension": ".py",
   "mimetype": "text/x-python",
   "name": "python",
   "nbconvert_exporter": "python",
   "pygments_lexer": "ipython3",
   "version": "3.9.12"
  }
 },
 "nbformat": 4,
 "nbformat_minor": 5
}
